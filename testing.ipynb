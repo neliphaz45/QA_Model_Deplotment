{
 "cells": [
  {
   "cell_type": "code",
   "execution_count": 415,
   "metadata": {},
   "outputs": [],
   "source": [
    "import pandas as pd"
   ]
  },
  {
   "cell_type": "code",
   "execution_count": 416,
   "metadata": {},
   "outputs": [
    {
     "data": {
      "text/html": [
       "<div>\n",
       "<style scoped>\n",
       "    .dataframe tbody tr th:only-of-type {\n",
       "        vertical-align: middle;\n",
       "    }\n",
       "\n",
       "    .dataframe tbody tr th {\n",
       "        vertical-align: top;\n",
       "    }\n",
       "\n",
       "    .dataframe thead th {\n",
       "        text-align: right;\n",
       "    }\n",
       "</style>\n",
       "<table border=\"1\" class=\"dataframe\">\n",
       "  <thead>\n",
       "    <tr style=\"text-align: right;\">\n",
       "      <th></th>\n",
       "      <th>Unnamed: 0</th>\n",
       "      <th>questions</th>\n",
       "      <th>answer_texts</th>\n",
       "    </tr>\n",
       "  </thead>\n",
       "  <tbody>\n",
       "    <tr>\n",
       "      <th>0</th>\n",
       "      <td>0</td>\n",
       "      <td>['When did The Carpenters sign with A&amp;M Record...</td>\n",
       "      <td>['1969', '(They Long to Be) Close to You', '19...</td>\n",
       "    </tr>\n",
       "    <tr>\n",
       "      <th>1</th>\n",
       "      <td>1</td>\n",
       "      <td>['Does Bradley Cooper star in American Hustle?...</td>\n",
       "      <td>['Yes', '5 January 1975', 'Danny Elfman', 'Yes...</td>\n",
       "    </tr>\n",
       "    <tr>\n",
       "      <th>2</th>\n",
       "      <td>2</td>\n",
       "      <td>['What year did the Carpenters sign with A&amp;M R...</td>\n",
       "      <td>['1969', '(They Long to Be) Close to You', '19...</td>\n",
       "    </tr>\n",
       "    <tr>\n",
       "      <th>3</th>\n",
       "      <td>3</td>\n",
       "      <td>['Which author wrote the novel 1Q84?', \"author...</td>\n",
       "      <td>['Haruki Murakami', 'Japan', 'Kafka on the sho...</td>\n",
       "    </tr>\n",
       "    <tr>\n",
       "      <th>4</th>\n",
       "      <td>4</td>\n",
       "      <td>['Which famous author wrote the fantasy book s...</td>\n",
       "      <td>['J. K. Rowling', \"Harry Potter and the Philos...</td>\n",
       "    </tr>\n",
       "  </tbody>\n",
       "</table>\n",
       "</div>"
      ],
      "text/plain": [
       "   Unnamed: 0                                          questions  \\\n",
       "0           0  ['When did The Carpenters sign with A&M Record...   \n",
       "1           1  ['Does Bradley Cooper star in American Hustle?...   \n",
       "2           2  ['What year did the Carpenters sign with A&M R...   \n",
       "3           3  ['Which author wrote the novel 1Q84?', \"author...   \n",
       "4           4  ['Which famous author wrote the fantasy book s...   \n",
       "\n",
       "                                        answer_texts  \n",
       "0  ['1969', '(They Long to Be) Close to You', '19...  \n",
       "1  ['Yes', '5 January 1975', 'Danny Elfman', 'Yes...  \n",
       "2  ['1969', '(They Long to Be) Close to You', '19...  \n",
       "3  ['Haruki Murakami', 'Japan', 'Kafka on the sho...  \n",
       "4  ['J. K. Rowling', \"Harry Potter and the Philos...  "
      ]
     },
     "execution_count": 416,
     "metadata": {},
     "output_type": "execute_result"
    }
   ],
   "source": [
    "data = pd.read_csv(\"question_answer.csv\")\n",
    "data.head()"
   ]
  },
  {
   "cell_type": "code",
   "execution_count": 417,
   "metadata": {},
   "outputs": [
    {
     "data": {
      "text/html": [
       "<div>\n",
       "<style scoped>\n",
       "    .dataframe tbody tr th:only-of-type {\n",
       "        vertical-align: middle;\n",
       "    }\n",
       "\n",
       "    .dataframe tbody tr th {\n",
       "        vertical-align: top;\n",
       "    }\n",
       "\n",
       "    .dataframe thead th {\n",
       "        text-align: right;\n",
       "    }\n",
       "</style>\n",
       "<table border=\"1\" class=\"dataframe\">\n",
       "  <thead>\n",
       "    <tr style=\"text-align: right;\">\n",
       "      <th></th>\n",
       "      <th>questions</th>\n",
       "    </tr>\n",
       "  </thead>\n",
       "  <tbody>\n",
       "    <tr>\n",
       "      <th>0</th>\n",
       "      <td>['When did The Carpenters sign with A&amp;M Record...</td>\n",
       "    </tr>\n",
       "    <tr>\n",
       "      <th>1</th>\n",
       "      <td>['Does Bradley Cooper star in American Hustle?...</td>\n",
       "    </tr>\n",
       "    <tr>\n",
       "      <th>2</th>\n",
       "      <td>['What year did the Carpenters sign with A&amp;M R...</td>\n",
       "    </tr>\n",
       "    <tr>\n",
       "      <th>3</th>\n",
       "      <td>['Which author wrote the novel 1Q84?', \"author...</td>\n",
       "    </tr>\n",
       "    <tr>\n",
       "      <th>4</th>\n",
       "      <td>['Which famous author wrote the fantasy book s...</td>\n",
       "    </tr>\n",
       "    <tr>\n",
       "      <th>...</th>\n",
       "      <td>...</td>\n",
       "    </tr>\n",
       "    <tr>\n",
       "      <th>6715</th>\n",
       "      <td>['What other name is Harry Potter and the Phil...</td>\n",
       "    </tr>\n",
       "    <tr>\n",
       "      <th>6716</th>\n",
       "      <td>['What year was the movie Die Hard released?',...</td>\n",
       "    </tr>\n",
       "    <tr>\n",
       "      <th>6717</th>\n",
       "      <td>['What league was David Beckham in first?', 'w...</td>\n",
       "    </tr>\n",
       "    <tr>\n",
       "      <th>6718</th>\n",
       "      <td>['Who performs 3005?', 'Album?', 'What about S...</td>\n",
       "    </tr>\n",
       "    <tr>\n",
       "      <th>6719</th>\n",
       "      <td>['Who is the voice of Buzz Lightyear in Toy St...</td>\n",
       "    </tr>\n",
       "  </tbody>\n",
       "</table>\n",
       "<p>6720 rows × 1 columns</p>\n",
       "</div>"
      ],
      "text/plain": [
       "                                              questions\n",
       "0     ['When did The Carpenters sign with A&M Record...\n",
       "1     ['Does Bradley Cooper star in American Hustle?...\n",
       "2     ['What year did the Carpenters sign with A&M R...\n",
       "3     ['Which author wrote the novel 1Q84?', \"author...\n",
       "4     ['Which famous author wrote the fantasy book s...\n",
       "...                                                 ...\n",
       "6715  ['What other name is Harry Potter and the Phil...\n",
       "6716  ['What year was the movie Die Hard released?',...\n",
       "6717  ['What league was David Beckham in first?', 'w...\n",
       "6718  ['Who performs 3005?', 'Album?', 'What about S...\n",
       "6719  ['Who is the voice of Buzz Lightyear in Toy St...\n",
       "\n",
       "[6720 rows x 1 columns]"
      ]
     },
     "execution_count": 417,
     "metadata": {},
     "output_type": "execute_result"
    }
   ],
   "source": [
    "data[['questions']]"
   ]
  },
  {
   "cell_type": "code",
   "execution_count": 418,
   "metadata": {},
   "outputs": [],
   "source": [
    "questions = data['questions'].values.tolist()\n",
    "answers = data['answer_texts'].values.tolist()\n",
    "\n"
   ]
  },
  {
   "cell_type": "code",
   "execution_count": 422,
   "metadata": {},
   "outputs": [],
   "source": [
    "alldata = []\n",
    "def removesings(list_data):\n",
    "    for elemnt in list_data:\n",
    "        new_string = elemnt.replace('[', \"\")\n",
    "        new_string = new_string.replace(']', \"\")\n",
    "        new_string = new_string.replace('\\'', \"\")\n",
    "        new_string = new_string.split(\",\")\n",
    "        alldata.append(new_string)\n",
    "    return alldata"
   ]
  },
  {
   "cell_type": "code",
   "execution_count": 423,
   "metadata": {},
   "outputs": [
    {
     "name": "stdout",
     "output_type": "stream",
     "text": [
      "[['\"Whats the place of birth of Manuel Neuer?\"', ' What state of Germany does his birth place belong to?', ' \"Whats the capital?\"', ' Does it have an airport?', ' \"Whats the name of the main soccer club there?\"'], ['In what year was the film Black Panther released?', ' Black Panther played by who?', ' Does the larger Marvel universe include Black Panther?', ' Directed by who?', ' Has Black Panther been in other Marvel films?'], ['Did The Black Eyed Peas form in 1998?', ' Where did they first get together?', ' What music do they play?', ' Do they have an official website?', ' Did Fergie leave the band in 2014 ?']]\n"
     ]
    }
   ],
   "source": [
    "alldata = []\n",
    "questions = removesings(questions)\n",
    "print(questions[10:13])"
   ]
  },
  {
   "cell_type": "code",
   "execution_count": 424,
   "metadata": {},
   "outputs": [],
   "source": [
    "alldata = []\n",
    "answers = removesings(answers)\n"
   ]
  },
  {
   "cell_type": "code",
   "execution_count": 425,
   "metadata": {},
   "outputs": [
    {
     "name": "stdout",
     "output_type": "stream",
     "text": [
      "[['Gelsenkirchen', ' North Rhine-Westphalia', ' Düsseldorf', ' Yes', ' Fortuna Düsseldorf'], ['2018', ' Chadwick Boseman', ' Yes', ' Ryan Coogler', ' Yes'], ['No', ' Los Angeles', ' hip hop music;techno;pop music', ' http://www.blackeyedpeas.com', ' No']]\n"
     ]
    }
   ],
   "source": [
    "print(answers[10:13])"
   ]
  },
  {
   "cell_type": "code",
   "execution_count": 426,
   "metadata": {},
   "outputs": [],
   "source": [
    "# function\n",
    "flat_list = []\n",
    "def flatten_list(data):\n",
    "    # iterating over the data\n",
    "    for element in data:\n",
    "        # checking for list\n",
    "        if type(element) == list:\n",
    "            # calling the same function with current element as new argument\n",
    "            flatten_list(element)\n",
    "        else:\n",
    "            flat_list.append(element)\n",
    "    return flat_list"
   ]
  },
  {
   "cell_type": "code",
   "execution_count": 427,
   "metadata": {},
   "outputs": [
    {
     "name": "stdout",
     "output_type": "stream",
     "text": [
      "[' What song was their first hit?', ' When did Karen die?', ' Karen had what eating problem?', ' and how did she die?', 'Does Bradley Cooper star in American Hustle?', ' When was he born?', ' And who composed?', ' Did the movie win a Golden Globe award?', ' How long is the movie?']\n"
     ]
    }
   ],
   "source": [
    "flat_list = []\n",
    "\n",
    "questions = flatten_list(questions)\n",
    "print(questions[1:10])"
   ]
  },
  {
   "cell_type": "code",
   "execution_count": 428,
   "metadata": {},
   "outputs": [
    {
     "name": "stdout",
     "output_type": "stream",
     "text": [
      "[' (They Long to Be) Close to You', ' 1983', ' anorexia nervosa', ' heart failure', 'Yes', ' 5 January 1975', ' Danny Elfman', ' Yes', ' 138 minute']\n"
     ]
    }
   ],
   "source": [
    "flat_list = []\n",
    "answers = flatten_list(answers)\n",
    "print(answers[1:10])"
   ]
  },
  {
   "cell_type": "code",
   "execution_count": 429,
   "metadata": {},
   "outputs": [
    {
     "data": {
      "text/plain": [
       "' (They Long to Be) Close to You'"
      ]
     },
     "execution_count": 429,
     "metadata": {},
     "output_type": "execute_result"
    }
   ],
   "source": [
    "answers[1]"
   ]
  },
  {
   "cell_type": "code",
   "execution_count": null,
   "metadata": {},
   "outputs": [],
   "source": []
  }
 ],
 "metadata": {
  "interpreter": {
   "hash": "d421f7e0be82773f79ff071f6681b3a26ad583fa2b319fe248c43945bdde9151"
  },
  "kernelspec": {
   "display_name": "Python 3.8.5 64-bit ('base': conda)",
   "language": "python",
   "name": "python3"
  },
  "language_info": {
   "codemirror_mode": {
    "name": "ipython",
    "version": 3
   },
   "file_extension": ".py",
   "mimetype": "text/x-python",
   "name": "python",
   "nbconvert_exporter": "python",
   "pygments_lexer": "ipython3",
   "version": "3.8.5"
  },
  "orig_nbformat": 4
 },
 "nbformat": 4,
 "nbformat_minor": 2
}
